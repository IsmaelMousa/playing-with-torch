{
 "nbformat": 4,
 "nbformat_minor": 0,
 "metadata": {
  "colab": {
   "provenance": [],
   "authorship_tag": "ABX9TyNydXgNqwmmhKbNwUVkUa47"
  },
  "kernelspec": {
   "name": "python3",
   "display_name": "Python 3"
  },
  "language_info": {
   "name": "python"
  }
 },
 "cells": [
  {
   "cell_type": "markdown",
   "source": [
    "## Some code about **Pytorch** (torch)"
   ],
   "metadata": {
    "id": "qMGX5C0r9NcA"
   }
  },
  {
   "cell_type": "code",
   "source": [
    "import torch"
   ],
   "metadata": {
    "id": "aSUHfjdRAZrI",
    "executionInfo": {
     "status": "ok",
     "timestamp": 1713289418341,
     "user_tz": -180,
     "elapsed": 421,
     "user": {
      "displayName": "Ismael",
      "userId": "09987708781082573235"
     }
    }
   },
   "execution_count": null,
   "outputs": []
  },
  {
   "cell_type": "code",
   "source": [
    "x = torch.arange(12, dtype=torch.float32)\n",
    "print(x)"
   ],
   "metadata": {
    "colab": {
     "base_uri": "https://localhost:8080/"
    },
    "id": "86pH3HeABXda",
    "executionInfo": {
     "status": "ok",
     "timestamp": 1713290259630,
     "user_tz": -180,
     "elapsed": 536,
     "user": {
      "displayName": "Ismael",
      "userId": "09987708781082573235"
     }
    },
    "outputId": "0d5076af-409f-43d7-e6dd-925b4baafc7f"
   },
   "execution_count": null,
   "outputs": []
  },
  {
   "cell_type": "code",
   "source": [
    "# The size of tensor x:\n",
    "x.numel()"
   ],
   "metadata": {
    "colab": {
     "base_uri": "https://localhost:8080/"
    },
    "id": "HQL1xVJdBzXM",
    "executionInfo": {
     "status": "ok",
     "timestamp": 1713290262469,
     "user_tz": -180,
     "elapsed": 406,
     "user": {
      "displayName": "Ismael",
      "userId": "09987708781082573235"
     }
    },
    "outputId": "3b814d89-97b3-4f7b-c5b2-1dcd29aad56f"
   },
   "execution_count": null,
   "outputs": []
  },
  {
   "cell_type": "code",
   "source": [
    "# The shape of tensor x:\n",
    "x.shape"
   ],
   "metadata": {
    "colab": {
     "base_uri": "https://localhost:8080/"
    },
    "id": "r4enrD7JCRCN",
    "executionInfo": {
     "status": "ok",
     "timestamp": 1713290263794,
     "user_tz": -180,
     "elapsed": 4,
     "user": {
      "displayName": "Ismael",
      "userId": "09987708781082573235"
     }
    },
    "outputId": "eeef11e1-ba36-4f09-f6de-d2d72d4f62c0"
   },
   "execution_count": null,
   "outputs": []
  },
  {
   "cell_type": "code",
   "source": [
    "# Reshape the tensor x:\n",
    "y = x.reshape(3, 4)\n",
    "print(y)"
   ],
   "metadata": {
    "colab": {
     "base_uri": "https://localhost:8080/"
    },
    "id": "Vh7Twsa2CUEB",
    "executionInfo": {
     "status": "ok",
     "timestamp": 1713290501967,
     "user_tz": -180,
     "elapsed": 262,
     "user": {
      "displayName": "Ismael",
      "userId": "09987708781082573235"
     }
    },
    "outputId": "f91b034e-075a-4b11-b9a9-450f2d918d37"
   },
   "execution_count": null,
   "outputs": []
  },
  {
   "cell_type": "code",
   "source": [
    "# The shape of tensor y:\n",
    "y.shape"
   ],
   "metadata": {
    "colab": {
     "base_uri": "https://localhost:8080/"
    },
    "id": "zlmOGKVLDT8p",
    "executionInfo": {
     "status": "ok",
     "timestamp": 1713290265892,
     "user_tz": -180,
     "elapsed": 5,
     "user": {
      "displayName": "Ismael",
      "userId": "09987708781082573235"
     }
    },
    "outputId": "b54807fd-8c94-4f60-967b-400175403e1e"
   },
   "execution_count": null,
   "outputs": []
  },
  {
   "cell_type": "code",
   "source": [
    "# Also we can use -1 in case we don't know the size of the tensor:\n",
    "z = x.reshape(4,-1)\n",
    "print(z)\n",
    "# Also\n",
    "z = x.reshape(-1, 4)\n",
    "print(z)"
   ],
   "metadata": {
    "colab": {
     "base_uri": "https://localhost:8080/"
    },
    "id": "qChhRZpICWrm",
    "executionInfo": {
     "status": "ok",
     "timestamp": 1713290642075,
     "user_tz": -180,
     "elapsed": 308,
     "user": {
      "displayName": "Ismael",
      "userId": "09987708781082573235"
     }
    },
    "outputId": "49b4151e-6399-4909-95c7-be88d1729726"
   },
   "execution_count": null,
   "outputs": []
  },
  {
   "cell_type": "code",
   "source": [
    "# Tensor of zeros:\n",
    "zeros = torch.zeros((2,3,4))\n",
    "print(zeros)"
   ],
   "metadata": {
    "colab": {
     "base_uri": "https://localhost:8080/"
    },
    "id": "XbtW-oVhFUrp",
    "executionInfo": {
     "status": "ok",
     "timestamp": 1713290814533,
     "user_tz": -180,
     "elapsed": 357,
     "user": {
      "displayName": "Ismael",
      "userId": "09987708781082573235"
     }
    },
    "outputId": "1087f81c-d674-49ef-90a8-525e1e0e6817"
   },
   "execution_count": null,
   "outputs": []
  },
  {
   "cell_type": "code",
   "source": [
    "# Tensor of ones:\n",
    "ones = torch.ones((2,3,4))\n",
    "print(ones)"
   ],
   "metadata": {
    "colab": {
     "base_uri": "https://localhost:8080/"
    },
    "id": "dMaUyEPbFWv-",
    "executionInfo": {
     "status": "ok",
     "timestamp": 1713290883558,
     "user_tz": -180,
     "elapsed": 594,
     "user": {
      "displayName": "Ismael",
      "userId": "09987708781082573235"
     }
    },
    "outputId": "80b51a6e-8851-487c-e8ea-d4533ac38263"
   },
   "execution_count": null,
   "outputs": []
  },
  {
   "cell_type": "code",
   "source": [
    "# Tensor of random values (random sample):\n",
    "s = torch.randn(3, 4)\n",
    "print(s)"
   ],
   "metadata": {
    "colab": {
     "base_uri": "https://localhost:8080/"
    },
    "id": "HAWsYFW-FaDr",
    "executionInfo": {
     "status": "ok",
     "timestamp": 1713291592691,
     "user_tz": -180,
     "elapsed": 336,
     "user": {
      "displayName": "Ismael",
      "userId": "09987708781082573235"
     }
    },
    "outputId": "c95f3842-86e1-4086-f906-809eddc75de1"
   },
   "execution_count": null,
   "outputs": []
  },
  {
   "cell_type": "code",
   "source": [
    "# Create a tensor of a specific values (list of values):\n",
    "\n",
    "l = [[1,2,3,4], [5,6,7,8], [9,10,11,12]]\n",
    "t = torch.tensor(l)\n",
    "print(t)"
   ],
   "metadata": {
    "colab": {
     "base_uri": "https://localhost:8080/"
    },
    "id": "ehXY-lPoI79u",
    "executionInfo": {
     "status": "ok",
     "timestamp": 1713293179764,
     "user_tz": -180,
     "elapsed": 302,
     "user": {
      "displayName": "Ismael",
      "userId": "09987708781082573235"
     }
    },
    "outputId": "f3521df2-bd16-4d70-b521-8d4775525d74"
   },
   "execution_count": null,
   "outputs": []
  },
  {
   "cell_type": "markdown",
   "source": [
    "### Indexing and slicing"
   ],
   "metadata": {
    "id": "9hmd6_SeLMQ7"
   }
  },
  {
   "cell_type": "code",
   "source": [
    "# Get the second tensor:\n",
    "t[1]"
   ],
   "metadata": {
    "colab": {
     "base_uri": "https://localhost:8080/"
    },
    "id": "46_knPqDLV6t",
    "executionInfo": {
     "status": "ok",
     "timestamp": 1713292555895,
     "user_tz": -180,
     "elapsed": 293,
     "user": {
      "displayName": "Ismael",
      "userId": "09987708781082573235"
     }
    },
    "outputId": "cd3ebd21-0c69-4a8b-a2ac-4aba1f705877"
   },
   "execution_count": null,
   "outputs": []
  },
  {
   "cell_type": "code",
   "source": [
    "# Get from second to the end tensors:\n",
    "t[1:3]"
   ],
   "metadata": {
    "colab": {
     "base_uri": "https://localhost:8080/"
    },
    "id": "KBL1iRVTLWDd",
    "executionInfo": {
     "status": "ok",
     "timestamp": 1713292583546,
     "user_tz": -180,
     "elapsed": 417,
     "user": {
      "displayName": "Ismael",
      "userId": "09987708781082573235"
     }
    },
    "outputId": "182e6c5c-d37a-497a-e943-a0f81fbd21c5"
   },
   "execution_count": null,
   "outputs": []
  },
  {
   "cell_type": "code",
   "source": [
    "# Get the last tensor:\n",
    "t[2]\n",
    "# Or\n",
    "t[-1]"
   ],
   "metadata": {
    "colab": {
     "base_uri": "https://localhost:8080/"
    },
    "id": "NtHU60hTLWMt",
    "executionInfo": {
     "status": "ok",
     "timestamp": 1713292630970,
     "user_tz": -180,
     "elapsed": 3,
     "user": {
      "displayName": "Ismael",
      "userId": "09987708781082573235"
     }
    },
    "outputId": "445431ba-f0e0-45f5-b037-c5b1f696905f"
   },
   "execution_count": null,
   "outputs": []
  },
  {
   "cell_type": "code",
   "source": [
    "# Get a specific element from a specific tensor:\n",
    "t[2,0]"
   ],
   "metadata": {
    "colab": {
     "base_uri": "https://localhost:8080/"
    },
    "id": "0Rwtega7LWWz",
    "executionInfo": {
     "status": "ok",
     "timestamp": 1713292746284,
     "user_tz": -180,
     "elapsed": 334,
     "user": {
      "displayName": "Ismael",
      "userId": "09987708781082573235"
     }
    },
    "outputId": "19e9e734-b3f9-42b4-c674-df6231edd60c"
   },
   "execution_count": null,
   "outputs": []
  },
  {
   "cell_type": "code",
   "source": [
    "# Change value of a specifc element:\n",
    "t[2,0] = 20\n",
    "t"
   ],
   "metadata": {
    "colab": {
     "base_uri": "https://localhost:8080/"
    },
    "id": "5MZRNDjENP5j",
    "executionInfo": {
     "status": "ok",
     "timestamp": 1713293183353,
     "user_tz": -180,
     "elapsed": 307,
     "user": {
      "displayName": "Ismael",
      "userId": "09987708781082573235"
     }
    },
    "outputId": "a7a37d8a-d6e9-4a08-8f22-5339861abf51"
   },
   "execution_count": null,
   "outputs": []
  },
  {
   "cell_type": "code",
   "source": [
    "# Also we can change multiple elements:\n",
    "t[:2, :] = 30\n",
    "t"
   ],
   "metadata": {
    "colab": {
     "base_uri": "https://localhost:8080/"
    },
    "id": "7psl3pGkNcRr",
    "executionInfo": {
     "status": "ok",
     "timestamp": 1713293426155,
     "user_tz": -180,
     "elapsed": 6,
     "user": {
      "displayName": "Ismael",
      "userId": "09987708781082573235"
     }
    },
    "outputId": "445165f5-c3c7-4302-8427-29d3794759d4"
   },
   "execution_count": null,
   "outputs": []
  },
  {
   "cell_type": "markdown",
   "source": [
    "### Operations on Tensors"
   ],
   "metadata": {
    "id": "H0RK7MXgb2zb"
   }
  },
  {
   "cell_type": "code",
   "source": [
    "# Unary operations, for example exponential:\n",
    "e = torch.exp(x)\n",
    "e"
   ],
   "metadata": {
    "colab": {
     "base_uri": "https://localhost:8080/"
    },
    "id": "f7um_EXKNccw",
    "executionInfo": {
     "status": "ok",
     "timestamp": 1713297101808,
     "user_tz": -180,
     "elapsed": 441,
     "user": {
      "displayName": "Ismael",
      "userId": "09987708781082573235"
     }
    },
    "outputId": "220ce59c-60ee-4b2c-856e-1afb5da3f5ee"
   },
   "execution_count": null,
   "outputs": []
  },
  {
   "cell_type": "code",
   "source": [
    "# Binary operations, for example +,-,*,/,**:\n",
    "u = torch.randn((3,3))\n",
    "v = torch.randn((3,3))\n",
    "\n",
    "c1 = u + v\n",
    "c2 = u - v\n",
    "c3 = u * v\n",
    "c4 = u / v\n",
    "c5 = u ** v\n",
    "\n",
    "print(c1)\n",
    "print(c2)\n",
    "print(c3)\n",
    "print(c4)\n",
    "print(c5)"
   ],
   "metadata": {
    "colab": {
     "base_uri": "https://localhost:8080/"
    },
    "id": "zuG4HDCcNcmE",
    "executionInfo": {
     "status": "ok",
     "timestamp": 1713297546066,
     "user_tz": -180,
     "elapsed": 298,
     "user": {
      "displayName": "Ismael",
      "userId": "09987708781082573235"
     }
    },
    "outputId": "5d2d8257-0acc-43c1-818f-4dbacf097ab5"
   },
   "execution_count": null,
   "outputs": []
  },
  {
   "cell_type": "code",
   "source": [
    "# Concatenate multiple tensors:\n",
    "l1 = [[0, 1, 2, 3],\n",
    "     [4, 5, 6, 7],\n",
    "     [8, 9, 10, 11]]\n",
    "\n",
    "l2 = [[2.0, 1, 4, 3],\n",
    "     [1, 2, 3, 4],\n",
    "     [4, 3, 2, 1]]\n",
    "\n",
    "x = torch.tensor(l1)\n",
    "y = torch.tensor(l2)\n",
    "\n",
    "torch.cat((x, y), dim=0)"
   ],
   "metadata": {
    "colab": {
     "base_uri": "https://localhost:8080/"
    },
    "id": "OhDmHpKrv1FK",
    "executionInfo": {
     "status": "ok",
     "timestamp": 1713302608026,
     "user_tz": -180,
     "elapsed": 305,
     "user": {
      "displayName": "Ismael",
      "userId": "09987708781082573235"
     }
    },
    "outputId": "d0cb0e93-6f87-4a1c-eef7-9bfa763060e2"
   },
   "execution_count": null,
   "outputs": []
  },
  {
   "cell_type": "code",
   "source": [
    "# Logical operation:\n",
    "print(x == y)\n",
    "print(x > y)\n",
    "print(x < y)\n",
    "print(x != y)"
   ],
   "metadata": {
    "colab": {
     "base_uri": "https://localhost:8080/"
    },
    "id": "RJTWSunX0-Qv",
    "executionInfo": {
     "status": "ok",
     "timestamp": 1713303265439,
     "user_tz": -180,
     "elapsed": 357,
     "user": {
      "displayName": "Ismael",
      "userId": "09987708781082573235"
     }
    },
    "outputId": "648716ad-4fcf-4435-f916-e1eff67cb764"
   },
   "execution_count": null,
   "outputs": []
  },
  {
   "cell_type": "code",
   "source": [
    "# Get the sum of the tensor elements:\n",
    "x.sum()"
   ],
   "metadata": {
    "colab": {
     "base_uri": "https://localhost:8080/"
    },
    "id": "6SQRw_Nb1aVY",
    "executionInfo": {
     "status": "ok",
     "timestamp": 1713303430648,
     "user_tz": -180,
     "elapsed": 284,
     "user": {
      "displayName": "Ismael",
      "userId": "09987708781082573235"
     }
    },
    "outputId": "9a6386eb-cd30-47b5-c63f-028df1ba2331"
   },
   "execution_count": null,
   "outputs": []
  },
  {
   "cell_type": "markdown",
   "source": [
    "### Broadcasting"
   ],
   "metadata": {
    "id": "GQIkczQl18xu"
   }
  },
  {
   "cell_type": "code",
   "source": [
    "a = torch.arange(3).reshape((3, 1,))\n",
    "b = torch.arange(2).reshape((1, 2))\n",
    "print(\"a: \", a)\n",
    "print(\"b: \", b)"
   ],
   "metadata": {
    "colab": {
     "base_uri": "https://localhost:8080/"
    },
    "id": "hVD4vumB2CG5",
    "executionInfo": {
     "status": "ok",
     "timestamp": 1713310420922,
     "user_tz": -180,
     "elapsed": 373,
     "user": {
      "displayName": "Ismael",
      "userId": "09987708781082573235"
     }
    },
    "outputId": "d510ee6c-3f19-4f68-cebc-8dd587cf4bd9"
   },
   "execution_count": null,
   "outputs": []
  },
  {
   "cell_type": "code",
   "source": [
    "print(a + b)\n",
    "print(a - b)\n",
    "print(a * b)\n",
    "print(a / b)\n",
    "print(a ** b)"
   ],
   "metadata": {
    "colab": {
     "base_uri": "https://localhost:8080/"
    },
    "id": "KXk8VoIs2CQE",
    "executionInfo": {
     "status": "ok",
     "timestamp": 1713310423888,
     "user_tz": -180,
     "elapsed": 271,
     "user": {
      "displayName": "Ismael",
      "userId": "09987708781082573235"
     }
    },
    "outputId": "5f0b4138-7e07-4b8a-90c8-4ed868c5a572"
   },
   "execution_count": null,
   "outputs": []
  },
  {
   "cell_type": "markdown",
   "source": [
    "### Saving the memory (allocate & derefrences)"
   ],
   "metadata": {
    "id": "uzl_b2psBbej"
   }
  },
  {
   "cell_type": "code",
   "source": [
    "# See how the address of the variable change when we change it value, and this is not good for the memory:\n",
    "before = id(a)\n",
    "a = a + b\n",
    "print(id(a) == before)"
   ],
   "metadata": {
    "colab": {
     "base_uri": "https://localhost:8080/"
    },
    "id": "sc9BFGfb2CZJ",
    "executionInfo": {
     "status": "ok",
     "timestamp": 1713307025782,
     "user_tz": -180,
     "elapsed": 256,
     "user": {
      "displayName": "Ismael",
      "userId": "09987708781082573235"
     }
    },
    "outputId": "e7d79040-fc52-4474-e819-254822274b6e"
   },
   "execution_count": null,
   "outputs": []
  },
  {
   "cell_type": "code",
   "source": [
    "# See how to change the value without changing the address by using [:] :\n",
    "c = torch.zeros_like(a)\n",
    "print(\"id(Z):\", id(c))\n",
    "c[:] = a + b\n",
    "print(\"id(Z):\", id(c))"
   ],
   "metadata": {
    "colab": {
     "base_uri": "https://localhost:8080/"
    },
    "id": "nA2oJqsoCKvu",
    "executionInfo": {
     "status": "ok",
     "timestamp": 1713307077888,
     "user_tz": -180,
     "elapsed": 318,
     "user": {
      "displayName": "Ismael",
      "userId": "09987708781082573235"
     }
    },
    "outputId": "6862c99f-5a2c-434a-8f89-3dcc745ced68"
   },
   "execution_count": null,
   "outputs": []
  },
  {
   "cell_type": "code",
   "source": [
    "# Or by using +=, *=, ...etc. :\n",
    "before = id(a)\n",
    "a += b\n",
    "print(id(a) == before)"
   ],
   "metadata": {
    "colab": {
     "base_uri": "https://localhost:8080/"
    },
    "id": "um1JEmbnDAq0",
    "executionInfo": {
     "status": "ok",
     "timestamp": 1713307028840,
     "user_tz": -180,
     "elapsed": 289,
     "user": {
      "displayName": "Ismael",
      "userId": "09987708781082573235"
     }
    },
    "outputId": "0a49f534-9e9d-4015-d0d6-7df6553605e9"
   },
   "execution_count": null,
   "outputs": []
  },
  {
   "cell_type": "markdown",
   "source": [
    "### Conversion to Other Python Objects"
   ],
   "metadata": {
    "id": "IDu4u5_0LDln"
   }
  },
  {
   "cell_type": "code",
   "source": [
    "# Convert tensor to numpy array and vice versa:\n",
    "x = torch.arange(10)\n",
    "\n",
    "to_numpy = x.numpy()\n",
    "from_numpy = torch.from_numpy(to_numpy)\n",
    "\n",
    "print(type(to_numpy),type(from_numpy))"
   ],
   "metadata": {
    "colab": {
     "base_uri": "https://localhost:8080/"
    },
    "id": "7EQ8cy4DDW2Q",
    "executionInfo": {
     "status": "ok",
     "timestamp": 1713309456729,
     "user_tz": -180,
     "elapsed": 298,
     "user": {
      "displayName": "Ismael",
      "userId": "09987708781082573235"
     }
    },
    "outputId": "8725620f-67b3-4d00-f6d8-66078bfa5035"
   },
   "execution_count": null,
   "outputs": []
  },
  {
   "cell_type": "code",
   "source": [
    "# Convert tensor with a single scalar (one element in the tensor to a scalar):\n",
    "a = torch.tensor([3.5])\n",
    "\n",
    "# The tensor with a single element:\n",
    "print(a)\n",
    "# by using item() method:\n",
    "print(a.item())\n",
    "# or by built-in casting to float:\n",
    "print(float(a))\n",
    "# or by built-in casting to int:\n",
    "print(int(a))"
   ],
   "metadata": {
    "colab": {
     "base_uri": "https://localhost:8080/"
    },
    "id": "Vp66N2szM-X4",
    "executionInfo": {
     "status": "ok",
     "timestamp": 1713309781956,
     "user_tz": -180,
     "elapsed": 322,
     "user": {
      "displayName": "Ismael",
      "userId": "09987708781082573235"
     }
    },
    "outputId": "67df6e8c-3b97-4f79-fc03-58dfa260c088"
   },
   "execution_count": null,
   "outputs": []
  }
 ]
}
