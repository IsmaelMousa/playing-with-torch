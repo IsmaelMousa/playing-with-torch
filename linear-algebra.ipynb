{
 "nbformat": 4,
 "nbformat_minor": 0,
 "metadata": {
  "colab": {
   "provenance": [],
   "authorship_tag": "ABX9TyMsbzjsP6kpDMTdKq0wAw1L"
  },
  "kernelspec": {
   "name": "python3",
   "display_name": "Python 3"
  },
  "language_info": {
   "name": "python"
  }
 },
 "cells": [
  {
   "cell_type": "markdown",
   "source": [
    "### Using the **Linear Algebra** tools from `torch`"
   ],
   "metadata": {
    "id": "r5EqGpwHbQ52"
   }
  },
  {
   "cell_type": "code",
   "execution_count": null,
   "metadata": {
    "id": "pnFmOrJEk5mS",
    "executionInfo": {
     "status": "ok",
     "timestamp": 1713967070020,
     "user_tz": -180,
     "elapsed": 6146,
     "user": {
      "displayName": "Ismael",
      "userId": "09987708781082573235"
     }
    }
   },
   "outputs": [],
   "source": [
    "import torch"
   ]
  },
  {
   "cell_type": "markdown",
   "source": [
    "#### Scalars (0th-order tensors)"
   ],
   "metadata": {
    "id": "ho-u_i8DcKSS"
   }
  },
  {
   "cell_type": "code",
   "source": [
    "s1 = torch.tensor(2.1)\n",
    "s2 = torch.tensor(3.2)\n",
    "\n",
    "s1, s2"
   ],
   "metadata": {
    "colab": {
     "base_uri": "https://localhost:8080/"
    },
    "id": "yp_Zsw4mbg1O",
    "executionInfo": {
     "status": "ok",
     "timestamp": 1713799043196,
     "user_tz": -180,
     "elapsed": 15,
     "user": {
      "displayName": "Ismael",
      "userId": "09987708781082573235"
     }
    },
    "outputId": "ddcde969-e423-4988-8c22-f962fc80237f"
   },
   "execution_count": null,
   "outputs": []
  },
  {
   "cell_type": "code",
   "source": [
    "s1 + s2, s1 - s2, s1 * s2, s1 / s2, s1 // s2, s1 ** s2"
   ],
   "metadata": {
    "colab": {
     "base_uri": "https://localhost:8080/"
    },
    "id": "NbRBGTxW4Qx8",
    "executionInfo": {
     "status": "ok",
     "timestamp": 1713799043196,
     "user_tz": -180,
     "elapsed": 13,
     "user": {
      "displayName": "Ismael",
      "userId": "09987708781082573235"
     }
    },
    "outputId": "59b656f8-7b4d-403a-a1f0-2f4473675c3d"
   },
   "execution_count": null,
   "outputs": []
  },
  {
   "cell_type": "code",
   "source": [
    "s1.dim()"
   ],
   "metadata": {
    "colab": {
     "base_uri": "https://localhost:8080/"
    },
    "id": "fPvOfXqNL8up",
    "executionInfo": {
     "status": "ok",
     "timestamp": 1713799043196,
     "user_tz": -180,
     "elapsed": 11,
     "user": {
      "displayName": "Ismael",
      "userId": "09987708781082573235"
     }
    },
    "outputId": "0e216b16-6721-4fe9-95df-be9c742cfec5"
   },
   "execution_count": null,
   "outputs": []
  },
  {
   "cell_type": "markdown",
   "source": [
    "#### Vectors (1st-order tensors)"
   ],
   "metadata": {
    "id": "AOXes4RXckD9"
   }
  },
  {
   "cell_type": "code",
   "source": [
    "v1 = torch.arange(5)\n",
    "v2 = torch.tensor([6,7,8,9,10])\n",
    "\n",
    "v1, v2"
   ],
   "metadata": {
    "colab": {
     "base_uri": "https://localhost:8080/"
    },
    "id": "KUz7cQNPbg-Y",
    "executionInfo": {
     "status": "ok",
     "timestamp": 1713799043196,
     "user_tz": -180,
     "elapsed": 10,
     "user": {
      "displayName": "Ismael",
      "userId": "09987708781082573235"
     }
    },
    "outputId": "ca620892-f94a-45de-d02f-89fbdeee0831"
   },
   "execution_count": null,
   "outputs": []
  },
  {
   "cell_type": "code",
   "source": [
    "v1 + v2, v1 - v2, v1 * v2, v1 / v2, v1 // v2, v1 ** v2"
   ],
   "metadata": {
    "colab": {
     "base_uri": "https://localhost:8080/"
    },
    "id": "xCY9V8WObhFR",
    "executionInfo": {
     "status": "ok",
     "timestamp": 1713799043196,
     "user_tz": -180,
     "elapsed": 9,
     "user": {
      "displayName": "Ismael",
      "userId": "09987708781082573235"
     }
    },
    "outputId": "49064b29-c603-4567-ed4b-f7460c923008"
   },
   "execution_count": null,
   "outputs": []
  },
  {
   "cell_type": "code",
   "source": [
    "# Both return the size.\n",
    "print(v1.shape)\n",
    "print(len(v1))"
   ],
   "metadata": {
    "colab": {
     "base_uri": "https://localhost:8080/"
    },
    "id": "DhByYCekbhMP",
    "executionInfo": {
     "status": "ok",
     "timestamp": 1713799043196,
     "user_tz": -180,
     "elapsed": 8,
     "user": {
      "displayName": "Ismael",
      "userId": "09987708781082573235"
     }
    },
    "outputId": "ae1f67e8-b9aa-459f-c70d-69b502c94999"
   },
   "execution_count": null,
   "outputs": []
  },
  {
   "cell_type": "code",
   "source": [
    "v1.dim()"
   ],
   "metadata": {
    "colab": {
     "base_uri": "https://localhost:8080/"
    },
    "id": "jg2rQb-4L0t2",
    "executionInfo": {
     "status": "ok",
     "timestamp": 1713799043197,
     "user_tz": -180,
     "elapsed": 8,
     "user": {
      "displayName": "Ismael",
      "userId": "09987708781082573235"
     }
    },
    "outputId": "b2c2d3d4-7ca4-44d1-b56c-be7ec36e7ce2"
   },
   "execution_count": null,
   "outputs": []
  },
  {
   "cell_type": "code",
   "source": [
    "v1[1], v2[1]"
   ],
   "metadata": {
    "colab": {
     "base_uri": "https://localhost:8080/"
    },
    "id": "6heWotwhbhSf",
    "executionInfo": {
     "status": "ok",
     "timestamp": 1713799043197,
     "user_tz": -180,
     "elapsed": 8,
     "user": {
      "displayName": "Ismael",
      "userId": "09987708781082573235"
     }
    },
    "outputId": "e9c73a17-3b5d-49fd-8c75-9ca17f652162"
   },
   "execution_count": null,
   "outputs": []
  },
  {
   "cell_type": "markdown",
   "source": [
    "#### Matrices (2nd-order tensors)"
   ],
   "metadata": {
    "id": "ADur3yfA5iuC"
   }
  },
  {
   "cell_type": "code",
   "source": [
    "M1 = torch.arange(8).reshape(2,4)\n",
    "M2 = torch.tensor([[9,10,11,12],[13,14,15,16]])\n",
    "\n",
    "M1, M2"
   ],
   "metadata": {
    "colab": {
     "base_uri": "https://localhost:8080/"
    },
    "id": "uS5Iy0VabhZX",
    "executionInfo": {
     "status": "ok",
     "timestamp": 1713799043197,
     "user_tz": -180,
     "elapsed": 7,
     "user": {
      "displayName": "Ismael",
      "userId": "09987708781082573235"
     }
    },
    "outputId": "f6b92eda-2927-4414-db78-bd2f14eb455e"
   },
   "execution_count": null,
   "outputs": []
  },
  {
   "cell_type": "code",
   "source": [
    "M1 + M2, M1 - M2, M1 * M2, M1 / M2, M1 // M2, M1 ** M2"
   ],
   "metadata": {
    "colab": {
     "base_uri": "https://localhost:8080/"
    },
    "id": "rqUaXYwsbhlm",
    "executionInfo": {
     "status": "ok",
     "timestamp": 1713799043197,
     "user_tz": -180,
     "elapsed": 6,
     "user": {
      "displayName": "Ismael",
      "userId": "09987708781082573235"
     }
    },
    "outputId": "28db864a-4638-4679-9bc2-d98d1cb89fd7"
   },
   "execution_count": null,
   "outputs": []
  },
  {
   "cell_type": "code",
   "source": [
    "M1.shape"
   ],
   "metadata": {
    "colab": {
     "base_uri": "https://localhost:8080/"
    },
    "id": "2FSr6o-Gbhfo",
    "executionInfo": {
     "status": "ok",
     "timestamp": 1713799043753,
     "user_tz": -180,
     "elapsed": 562,
     "user": {
      "displayName": "Ismael",
      "userId": "09987708781082573235"
     }
    },
    "outputId": "e0d851b0-fd68-4f39-87d4-4f4e55e84db1"
   },
   "execution_count": null,
   "outputs": []
  },
  {
   "cell_type": "code",
   "source": [
    "M1.dim()"
   ],
   "metadata": {
    "colab": {
     "base_uri": "https://localhost:8080/"
    },
    "id": "G6BVpuA1bhrd",
    "executionInfo": {
     "status": "ok",
     "timestamp": 1713799043753,
     "user_tz": -180,
     "elapsed": 14,
     "user": {
      "displayName": "Ismael",
      "userId": "09987708781082573235"
     }
    },
    "outputId": "41aac272-da11-4022-ad07-e35d37a8624e"
   },
   "execution_count": null,
   "outputs": []
  },
  {
   "cell_type": "code",
   "source": [
    "# \"transpose\" matrix: from m * n to n * m (m: rows, n: columns)\n",
    "M3 = torch.arange(10).reshape(2,5)\n",
    "\n",
    "print(M3)\n",
    "print(M3.T)\n",
    "\n",
    "print(M3.shape)\n",
    "print(M3.T.shape)"
   ],
   "metadata": {
    "colab": {
     "base_uri": "https://localhost:8080/"
    },
    "id": "YG2vfAtfbhyA",
    "executionInfo": {
     "status": "ok",
     "timestamp": 1713799043754,
     "user_tz": -180,
     "elapsed": 14,
     "user": {
      "displayName": "Ismael",
      "userId": "09987708781082573235"
     }
    },
    "outputId": "bc0fe5ab-f17b-496c-9cf0-b777a59f6c6f"
   },
   "execution_count": null,
   "outputs": []
  },
  {
   "cell_type": "code",
   "source": [
    "# symmetric matrices: square transpose matrix\n",
    "M4 = torch.tensor([[1, 2, 3], [2, 3, 4], [3, 4, 5]])\n",
    "\n",
    "print(M4)\n",
    "print(M4.T)\n",
    "\n",
    "print(M4.shape)\n",
    "print(M4.T.shape)\n",
    "\n",
    "print(M4 == M4.T)"
   ],
   "metadata": {
    "colab": {
     "base_uri": "https://localhost:8080/"
    },
    "id": "t5wpa_WYbh3y",
    "executionInfo": {
     "status": "ok",
     "timestamp": 1713799043754,
     "user_tz": -180,
     "elapsed": 13,
     "user": {
      "displayName": "Ismael",
      "userId": "09987708781082573235"
     }
    },
    "outputId": "5343d73c-8ad6-4710-d9c7-60120916747d"
   },
   "execution_count": null,
   "outputs": []
  },
  {
   "cell_type": "code",
   "source": [
    "# example of non-symmetric matrix\n",
    "M5 = torch.tensor([[1, 2, 4], [2, 3, 4], [3, 4, 5]])\n",
    "\n",
    "print(M5)\n",
    "print(M5.T)\n",
    "\n",
    "print(M5.shape)\n",
    "print(M5.T.shape)\n",
    "\n",
    "print(M5 == M5.T)"
   ],
   "metadata": {
    "colab": {
     "base_uri": "https://localhost:8080/"
    },
    "id": "SMoO1-4jbh9g",
    "executionInfo": {
     "status": "ok",
     "timestamp": 1713799043754,
     "user_tz": -180,
     "elapsed": 12,
     "user": {
      "displayName": "Ismael",
      "userId": "09987708781082573235"
     }
    },
    "outputId": "7545c6a1-56a6-4365-84f6-24dd861cfe1e"
   },
   "execution_count": null,
   "outputs": []
  },
  {
   "cell_type": "markdown",
   "source": [
    "#### higher-order tensors"
   ],
   "metadata": {
    "id": "zqEhAJGDdweh"
   }
  },
  {
   "cell_type": "code",
   "source": [
    "T1 = torch.arange(24).reshape(2,3,4)\n",
    "T2 = torch.randn(24).reshape(2,3,4)\n",
    "\n",
    "T1, T2"
   ],
   "metadata": {
    "colab": {
     "base_uri": "https://localhost:8080/"
    },
    "id": "JGS4pbATQRRt",
    "executionInfo": {
     "status": "ok",
     "timestamp": 1713799043754,
     "user_tz": -180,
     "elapsed": 11,
     "user": {
      "displayName": "Ismael",
      "userId": "09987708781082573235"
     }
    },
    "outputId": "395e0828-dcec-4c05-f2fb-91b093b2f194"
   },
   "execution_count": null,
   "outputs": []
  },
  {
   "cell_type": "code",
   "source": [
    "T1 + T2, T1 - T2, T1 * T2, T1 / T2, T1 // T2, T1 ** T2"
   ],
   "metadata": {
    "colab": {
     "base_uri": "https://localhost:8080/"
    },
    "id": "pHDo2LdLQRZj",
    "executionInfo": {
     "status": "ok",
     "timestamp": 1713799043754,
     "user_tz": -180,
     "elapsed": 10,
     "user": {
      "displayName": "Ismael",
      "userId": "09987708781082573235"
     }
    },
    "outputId": "e675d0ee-ae76-4d85-82a4-5e2bb5bc84cd"
   },
   "execution_count": null,
   "outputs": []
  },
  {
   "cell_type": "code",
   "source": [
    "T1.shape"
   ],
   "metadata": {
    "colab": {
     "base_uri": "https://localhost:8080/"
    },
    "id": "H73YpBsuQRgv",
    "executionInfo": {
     "status": "ok",
     "timestamp": 1713799043754,
     "user_tz": -180,
     "elapsed": 10,
     "user": {
      "displayName": "Ismael",
      "userId": "09987708781082573235"
     }
    },
    "outputId": "fc6e08d9-2e5a-4b68-869a-40f7d9553d3b"
   },
   "execution_count": null,
   "outputs": []
  },
  {
   "cell_type": "code",
   "source": [
    "T1.dim()"
   ],
   "metadata": {
    "colab": {
     "base_uri": "https://localhost:8080/"
    },
    "id": "1_ibSiwcQRmy",
    "executionInfo": {
     "status": "ok",
     "timestamp": 1713799043754,
     "user_tz": -180,
     "elapsed": 9,
     "user": {
      "displayName": "Ismael",
      "userId": "09987708781082573235"
     }
    },
    "outputId": "005301fd-3a5c-4c26-c54b-64f587e155f2"
   },
   "execution_count": null,
   "outputs": []
  },
  {
   "cell_type": "code",
   "source": [
    "T1.T"
   ],
   "metadata": {
    "colab": {
     "base_uri": "https://localhost:8080/"
    },
    "id": "aP34_V1UQRso",
    "executionInfo": {
     "status": "ok",
     "timestamp": 1713799043754,
     "user_tz": -180,
     "elapsed": 8,
     "user": {
      "displayName": "Ismael",
      "userId": "09987708781082573235"
     }
    },
    "outputId": "8a7bbf75-0bfe-4737-c2dd-77d17b787e1a"
   },
   "execution_count": null,
   "outputs": []
  },
  {
   "cell_type": "code",
   "source": [
    "# make a copy of tensor\n",
    "T3 = T1.clone()\n",
    "\n",
    "print(T3)"
   ],
   "metadata": {
    "colab": {
     "base_uri": "https://localhost:8080/"
    },
    "id": "h1ZHn7DbQRzB",
    "executionInfo": {
     "status": "ok",
     "timestamp": 1713799043754,
     "user_tz": -180,
     "elapsed": 7,
     "user": {
      "displayName": "Ismael",
      "userId": "09987708781082573235"
     }
    },
    "outputId": "c6b77ed2-62b5-43c8-b8be-e1a671f06666"
   },
   "execution_count": null,
   "outputs": []
  },
  {
   "cell_type": "code",
   "source": [
    "# Elementwise operations produce outputs that \"have the same shape as their operands\", example\n",
    "print(M1 + M2)\n",
    "print(M2.shape)\n",
    "print(M1.shape)\n",
    "print((M1 + M2).shape)"
   ],
   "metadata": {
    "colab": {
     "base_uri": "https://localhost:8080/"
    },
    "id": "LwkN9cO1n9c0",
    "executionInfo": {
     "status": "ok",
     "timestamp": 1713799043754,
     "user_tz": -180,
     "elapsed": 7,
     "user": {
      "displayName": "Ismael",
      "userId": "09987708781082573235"
     }
    },
    "outputId": "90f4fc52-66ef-4b30-ad13-ec3b92ee57ff"
   },
   "execution_count": null,
   "outputs": []
  },
  {
   "cell_type": "code",
   "source": [
    "# The Hadamard Product (elementwise product of two matrices)\n",
    "\n",
    "print(M1 * M2)"
   ],
   "metadata": {
    "colab": {
     "base_uri": "https://localhost:8080/"
    },
    "id": "F210Z_NiQR4w",
    "executionInfo": {
     "status": "ok",
     "timestamp": 1713799043754,
     "user_tz": -180,
     "elapsed": 6,
     "user": {
      "displayName": "Ismael",
      "userId": "09987708781082573235"
     }
    },
    "outputId": "63f61bb4-08d5-461c-87b1-58939ba42a41"
   },
   "execution_count": null,
   "outputs": []
  },
  {
   "cell_type": "markdown",
   "source": [
    "#### Operations between scalars & matrices or vectors"
   ],
   "metadata": {
    "id": "QuEpKjMpuhia"
   }
  },
  {
   "cell_type": "code",
   "source": [
    "s = 2\n",
    "v = torch.arange(3, dtype=torch.float32)\n",
    "\n",
    "s + v, s - v, s * v, s / v, s ** v"
   ],
   "metadata": {
    "colab": {
     "base_uri": "https://localhost:8080/"
    },
    "id": "PxakgXanQR-3",
    "executionInfo": {
     "status": "ok",
     "timestamp": 1713799322723,
     "user_tz": -180,
     "elapsed": 247,
     "user": {
      "displayName": "Ismael",
      "userId": "09987708781082573235"
     }
    },
    "outputId": "2fd20d82-e434-4363-e1cd-3a002e192ef5"
   },
   "execution_count": null,
   "outputs": []
  },
  {
   "cell_type": "code",
   "source": [
    "v.shape, (s * v).shape"
   ],
   "metadata": {
    "colab": {
     "base_uri": "https://localhost:8080/"
    },
    "id": "spMqOhk3vzXl",
    "executionInfo": {
     "status": "ok",
     "timestamp": 1713799323852,
     "user_tz": -180,
     "elapsed": 3,
     "user": {
      "displayName": "Ismael",
      "userId": "09987708781082573235"
     }
    },
    "outputId": "c31d3949-2311-45c8-a9a7-31c0bc7e5ff5"
   },
   "execution_count": null,
   "outputs": []
  },
  {
   "cell_type": "code",
   "source": [
    "M = torch.arange(8, dtype=torch.float32).reshape(2,4)\n",
    "\n",
    "s + M, s - M, s * M, s / M, s ** M"
   ],
   "metadata": {
    "colab": {
     "base_uri": "https://localhost:8080/"
    },
    "id": "4l2YIvQ7vcEJ",
    "executionInfo": {
     "status": "ok",
     "timestamp": 1713799390136,
     "user_tz": -180,
     "elapsed": 314,
     "user": {
      "displayName": "Ismael",
      "userId": "09987708781082573235"
     }
    },
    "outputId": "ca7568fe-5387-405e-d4fd-0cbcfa412943"
   },
   "execution_count": null,
   "outputs": []
  },
  {
   "cell_type": "code",
   "source": [
    "M.shape, (s * M).shape"
   ],
   "metadata": {
    "colab": {
     "base_uri": "https://localhost:8080/"
    },
    "id": "WQNDObejvcZq",
    "executionInfo": {
     "status": "ok",
     "timestamp": 1713799392062,
     "user_tz": -180,
     "elapsed": 314,
     "user": {
      "displayName": "Ismael",
      "userId": "09987708781082573235"
     }
    },
    "outputId": "dca0e788-6b61-4e35-f65c-76c68ce467a7"
   },
   "execution_count": null,
   "outputs": []
  },
  {
   "cell_type": "markdown",
   "source": [
    "#### Reduction"
   ],
   "metadata": {
    "id": "YcnoCQ8o0xfr"
   }
  },
  {
   "cell_type": "code",
   "source": [
    "# we call it reduction because the number of axes (dim) of the result is reduced, for example when calculate the sum or the mean or ... for a vector or a matrix\n",
    "# the result will be just 0-order tenosr (scalar), example:\n",
    "\n",
    "print(v.sum())\n",
    "print(M.sum())\n",
    "print(v.dim(), v.sum().dim()) # from 1-order (vector) to 0-order (scalar)\n",
    "print(M.dim(), M.sum().dim()) # from 2-order (matrix) to 0-order (scalar)"
   ],
   "metadata": {
    "id": "fZsZZviZvcgK",
    "executionInfo": {
     "status": "ok",
     "timestamp": 1713799792760,
     "user_tz": -180,
     "elapsed": 306,
     "user": {
      "displayName": "Ismael",
      "userId": "09987708781082573235"
     }
    },
    "colab": {
     "base_uri": "https://localhost:8080/"
    },
    "outputId": "910e62ff-2f3b-426e-8043-1901bfa9cfc0"
   },
   "execution_count": null,
   "outputs": []
  },
  {
   "cell_type": "code",
   "source": [
    "# calculate the avg or the mean\n",
    "way1 = v.sum() / v.numel()\n",
    "way2 = v.mean()\n",
    "\n",
    "way1, way2, M.mean()"
   ],
   "metadata": {
    "id": "pC41j8POvcl_",
    "colab": {
     "base_uri": "https://localhost:8080/"
    },
    "executionInfo": {
     "status": "ok",
     "timestamp": 1713800885535,
     "user_tz": -180,
     "elapsed": 309,
     "user": {
      "displayName": "Ismael",
      "userId": "09987708781082573235"
     }
    },
    "outputId": "0f7fea8b-b7ed-4a12-926c-edfc21bec4af"
   },
   "execution_count": null,
   "outputs": []
  },
  {
   "cell_type": "code",
   "source": [
    "# calculate the sum according the rows (axis 0), so the shape will be as the number of the columns\n",
    "# [(0 + 4), (1 + 5), (2 + 6), (3 + 7)]\n",
    "M, M.sum(axis=0), M.sum(axis=0).shape"
   ],
   "metadata": {
    "id": "pxRGXkREvcrk",
    "colab": {
     "base_uri": "https://localhost:8080/"
    },
    "executionInfo": {
     "status": "ok",
     "timestamp": 1713801508637,
     "user_tz": -180,
     "elapsed": 4,
     "user": {
      "displayName": "Ismael",
      "userId": "09987708781082573235"
     }
    },
    "outputId": "455f5282-b9d7-494e-bdb6-a4f496ab273d"
   },
   "execution_count": null,
   "outputs": []
  },
  {
   "cell_type": "code",
   "source": [
    "# calculate the sum according the columns (axis 1), so the shape will be as the number of the rows\n",
    "# [(0 + 1 + 2 + 3), (4 + 5 + 6 + 7)]\n",
    "M, M.sum(axis=1), M.sum(axis=1).shape"
   ],
   "metadata": {
    "colab": {
     "base_uri": "https://localhost:8080/"
    },
    "id": "we7pUEp8gthS",
    "executionInfo": {
     "status": "ok",
     "timestamp": 1713801514256,
     "user_tz": -180,
     "elapsed": 277,
     "user": {
      "displayName": "Ismael",
      "userId": "09987708781082573235"
     }
    },
    "outputId": "e9d18c01-903d-4031-a74f-7ddf64fac74f"
   },
   "execution_count": null,
   "outputs": []
  },
  {
   "cell_type": "code",
   "source": [
    "M.sum(axis=[0, 1]) == M.sum()  # Same as M.sum()"
   ],
   "metadata": {
    "colab": {
     "base_uri": "https://localhost:8080/"
    },
    "id": "-0_um32dgtn-",
    "executionInfo": {
     "status": "ok",
     "timestamp": 1713801786421,
     "user_tz": -180,
     "elapsed": 260,
     "user": {
      "displayName": "Ismael",
      "userId": "09987708781082573235"
     }
    },
    "outputId": "392847f2-e3c1-43cb-bcf6-ee8de478289d"
   },
   "execution_count": null,
   "outputs": []
  },
  {
   "cell_type": "code",
   "source": [
    "print(M.mean(axis=0), M.sum(axis=0) / M.shape[0])\n",
    "print(M.mean(axis=1), M.sum(axis=1) / M.shape[1])"
   ],
   "metadata": {
    "colab": {
     "base_uri": "https://localhost:8080/"
    },
    "id": "Hcta2zt0gtuW",
    "executionInfo": {
     "status": "ok",
     "timestamp": 1713801903297,
     "user_tz": -180,
     "elapsed": 379,
     "user": {
      "displayName": "Ismael",
      "userId": "09987708781082573235"
     }
    },
    "outputId": "464d8303-37fb-4653-b8d8-ce1578c91e42"
   },
   "execution_count": null,
   "outputs": []
  },
  {
   "cell_type": "markdown",
   "source": [
    "#### Non-Reduction"
   ],
   "metadata": {
    "id": "5n6rp-blk3U2"
   }
  },
  {
   "cell_type": "code",
   "source": [
    "# keep the number of axes (dim) unchanged\n",
    "M.sum(axis=0, keepdim=True), M.sum(axis=0, keepdim=True).shape, M.sum(axis=1, keepdim=True), M.sum(axis=1, keepdim=True).shape"
   ],
   "metadata": {
    "colab": {
     "base_uri": "https://localhost:8080/"
    },
    "id": "Q-pF8ichk4Eu",
    "executionInfo": {
     "status": "ok",
     "timestamp": 1713803311937,
     "user_tz": -180,
     "elapsed": 6,
     "user": {
      "displayName": "Ismael",
      "userId": "09987708781082573235"
     }
    },
    "outputId": "c37c3976-b14e-40b0-c7ee-e28e7b242575"
   },
   "execution_count": null,
   "outputs": []
  },
  {
   "cell_type": "code",
   "source": [
    "print(M)\n",
    "print(M.sum(axis=1, keepdim=True))\n",
    "# the sum of each row will be 1\n",
    "print(M / M.sum(axis=1, keepdim=True))"
   ],
   "metadata": {
    "colab": {
     "base_uri": "https://localhost:8080/"
    },
    "id": "i1Lne5fek4P_",
    "executionInfo": {
     "status": "ok",
     "timestamp": 1713804135077,
     "user_tz": -180,
     "elapsed": 355,
     "user": {
      "displayName": "Ismael",
      "userId": "09987708781082573235"
     }
    },
    "outputId": "7c8b8356-a13a-4d78-fab7-d5e2c7d52b2f"
   },
   "execution_count": null,
   "outputs": []
  },
  {
   "cell_type": "code",
   "source": [
    "M.cumsum(axis=0)"
   ],
   "metadata": {
    "colab": {
     "base_uri": "https://localhost:8080/"
    },
    "id": "XMv5mBuMk4WK",
    "executionInfo": {
     "status": "ok",
     "timestamp": 1713805204310,
     "user_tz": -180,
     "elapsed": 253,
     "user": {
      "displayName": "Ismael",
      "userId": "09987708781082573235"
     }
    },
    "outputId": "07ccf918-93fe-4f1a-e376-fc9b1b2f5561"
   },
   "execution_count": null,
   "outputs": []
  },
  {
   "cell_type": "markdown",
   "source": [
    "#### Dot Products (inner product)"
   ],
   "metadata": {
    "id": "YQglMAnYxfyy"
   }
  },
  {
   "cell_type": "code",
   "source": [
    "x = torch.arange(3, dtype = torch.float32)\n",
    "y = torch.ones(3, dtype = torch.float32)\n",
    "x, y, torch.dot(x, y)"
   ],
   "metadata": {
    "colab": {
     "base_uri": "https://localhost:8080/"
    },
    "id": "t211CRtvk4bt",
    "executionInfo": {
     "status": "ok",
     "timestamp": 1713809393370,
     "user_tz": -180,
     "elapsed": 427,
     "user": {
      "displayName": "Ismael",
      "userId": "09987708781082573235"
     }
    },
    "outputId": "6a366407-9aee-44cd-ec98-9db317824849"
   },
   "execution_count": null,
   "outputs": []
  },
  {
   "cell_type": "code",
   "source": [
    "# or can calculate it by: the sum of the elementwise product:\n",
    "print(torch.sum(x * y))\n",
    "print(torch.dot(x, y) == torch.sum(x * y))\n",
    "\n",
    "# so first we do the elementwise product, second we get the sum of the result tensor."
   ],
   "metadata": {
    "colab": {
     "base_uri": "https://localhost:8080/"
    },
    "id": "FH5SIUnUk4g9",
    "executionInfo": {
     "status": "ok",
     "timestamp": 1713809574342,
     "user_tz": -180,
     "elapsed": 253,
     "user": {
      "displayName": "Ismael",
      "userId": "09987708781082573235"
     }
    },
    "outputId": "83f7859e-5751-4584-e6d1-4dd3ff30ce61"
   },
   "execution_count": null,
   "outputs": []
  },
  {
   "cell_type": "code",
   "source": [
    "# the weighted average\n",
    "l = [0.1818, 0.2273, 0.2727, 0.3182] # the sum of l is 1 (it's a condition)\n",
    "\n",
    "values = torch.arange(4, dtype=torch.float32)\n",
    "weights = torch.tensor(l, dtype=torch.float32)\n",
    "\n",
    "weighted_average = torch.dot(values, weights)\n",
    "print(weighted_average)"
   ],
   "metadata": {
    "colab": {
     "base_uri": "https://localhost:8080/"
    },
    "id": "q6mXhp9kk4l-",
    "executionInfo": {
     "status": "ok",
     "timestamp": 1713810610884,
     "user_tz": -180,
     "elapsed": 336,
     "user": {
      "displayName": "Ismael",
      "userId": "09987708781082573235"
     }
    },
    "outputId": "7a7a29f0-8039-4446-bf8b-be8bc216fcf2"
   },
   "execution_count": null,
   "outputs": []
  },
  {
   "cell_type": "markdown",
   "source": [
    "#### Matrix–Vector Dot Products"
   ],
   "metadata": {
    "id": "iQA5q1hYA-DG"
   }
  },
  {
   "cell_type": "code",
   "source": [
    "# to dot product matrix with vector there is a condition: the columns axis (n) must be equal to the vector length or size (n), for example matrix (3, 4) with vector (4).\n",
    "v = torch.arange(4)\n",
    "M = torch.arange(12).reshape(3,4)\n",
    "\n",
    "# there is two ways to calculate it.\n",
    "way1 = torch.mv(M, v)\n",
    "way2 = M@v\n",
    "\n",
    "print(v)\n",
    "print(M)\n",
    "print(v.shape)\n",
    "print(M.shape)\n",
    "print(way1)\n",
    "print(way2)"
   ],
   "metadata": {
    "colab": {
     "base_uri": "https://localhost:8080/"
    },
    "id": "yxn3hIKIBAbG",
    "executionInfo": {
     "status": "ok",
     "timestamp": 1713812641317,
     "user_tz": -180,
     "elapsed": 314,
     "user": {
      "displayName": "Ismael",
      "userId": "09987708781082573235"
     }
    },
    "outputId": "22784c10-c7bf-466d-9ae7-0a878e316a47"
   },
   "execution_count": null,
   "outputs": []
  },
  {
   "cell_type": "markdown",
   "source": [
    "####  Matrix–Matrix Dot Products or Matrix–Matrix Multiplication"
   ],
   "metadata": {
    "id": "aWhtgdydE3QB"
   }
  },
  {
   "cell_type": "code",
   "source": [
    "# to dot product matrix with matrix there is a condition: the columns axis (n) of M1 must be equal to the rows axis (m) of M2, for example matrix (3, 4) with matrix (4, 6).\n",
    "M1 = torch.arange(12).reshape(3,4)\n",
    "M2 = torch.arange(24).reshape(4,6)\n",
    "\n",
    "# there is two ways to calculate it.\n",
    "way1 = torch.mm(M1, M2)\n",
    "way2 = M1@M2\n",
    "\n",
    "print(M1)\n",
    "print(M2)\n",
    "print(M1.shape)\n",
    "print(M2.shape)\n",
    "print(way1)\n",
    "print(way2)\n",
    "print(way1.shape)"
   ],
   "metadata": {
    "colab": {
     "base_uri": "https://localhost:8080/"
    },
    "id": "wEPlr1m4FBDb",
    "executionInfo": {
     "status": "ok",
     "timestamp": 1713815881406,
     "user_tz": -180,
     "elapsed": 615,
     "user": {
      "displayName": "Ismael",
      "userId": "09987708781082573235"
     }
    },
    "outputId": "7e530836-96db-4ee2-ff68-8c15fce12b37"
   },
   "execution_count": null,
   "outputs": []
  },
  {
   "cell_type": "markdown",
   "source": [
    "#### Norms"
   ],
   "metadata": {
    "id": "1eiPCZaDE3ZB"
   }
  },
  {
   "cell_type": "markdown",
   "source": [
    "* Vector Norms"
   ],
   "metadata": {
    "id": "3i6XsXuZZkMt"
   }
  },
  {
   "cell_type": "code",
   "source": [
    "# 1. Euclidean norm ||x||₂\n",
    "x = torch.tensor([3.0, -4.0])\n",
    "torch.norm(x)"
   ],
   "metadata": {
    "id": "EblxLd3yk4q_",
    "executionInfo": {
     "status": "ok",
     "timestamp": 1713967392213,
     "user_tz": -180,
     "elapsed": 8,
     "user": {
      "displayName": "Ismael",
      "userId": "09987708781082573235"
     }
    },
    "colab": {
     "base_uri": "https://localhost:8080/"
    },
    "outputId": "b5a0a171-8e0e-4aca-a89b-6dd3367ef7d7"
   },
   "execution_count": null,
   "outputs": []
  },
  {
   "cell_type": "code",
   "source": [
    "# 2. Manhattan norm ||x||₁\n",
    "torch.abs(x).sum()"
   ],
   "metadata": {
    "id": "WVxm9H-xFCLU",
    "colab": {
     "base_uri": "https://localhost:8080/"
    },
    "executionInfo": {
     "status": "ok",
     "timestamp": 1713967393435,
     "user_tz": -180,
     "elapsed": 5,
     "user": {
      "displayName": "Ismael",
      "userId": "09987708781082573235"
     }
    },
    "outputId": "b55d5b63-df45-43d2-8e1f-3be72ba34e26"
   },
   "execution_count": null,
   "outputs": []
  },
  {
   "cell_type": "markdown",
   "source": [
    "* Matrix Norms"
   ],
   "metadata": {
    "id": "RZUS9DlmZqpL"
   }
  },
  {
   "cell_type": "code",
   "source": [
    "# Frobenius norm ||x||f (it's like \"Euclidean\" but for matrix)\n",
    "M = torch.arange(12, dtype=torch.float32).reshape(3,4)\n",
    "torch.norm(M)"
   ],
   "metadata": {
    "id": "hJYGW0yIBAPl",
    "colab": {
     "base_uri": "https://localhost:8080/"
    },
    "executionInfo": {
     "status": "ok",
     "timestamp": 1713967427919,
     "user_tz": -180,
     "elapsed": 5,
     "user": {
      "displayName": "Ismael",
      "userId": "09987708781082573235"
     }
    },
    "outputId": "2343cbea-69bb-46ca-f27d-28e8d3ec6249"
   },
   "execution_count": null,
   "outputs": []
  },
  {
   "cell_type": "code",
   "source": [],
   "metadata": {
    "id": "BlC0gJGPBAVv",
    "executionInfo": {
     "status": "ok",
     "timestamp": 1713967341072,
     "user_tz": -180,
     "elapsed": 385,
     "user": {
      "displayName": "Ismael",
      "userId": "09987708781082573235"
     }
    }
   },
   "execution_count": null,
   "outputs": []
  }
 ]
}
